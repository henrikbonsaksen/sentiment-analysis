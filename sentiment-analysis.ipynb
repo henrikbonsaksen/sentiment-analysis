{
 "cells": [
  {
   "cell_type": "code",
   "execution_count": 1,
   "metadata": {},
   "outputs": [
    {
     "name": "stderr",
     "output_type": "stream",
     "text": [
      "[nltk_data] Downloading package punkt to\n",
      "[nltk_data]     C:\\Users\\henri\\AppData\\Roaming\\nltk_data...\n",
      "[nltk_data]   Package punkt is already up-to-date!\n",
      "[nltk_data] Downloading package stopwords to\n",
      "[nltk_data]     C:\\Users\\henri\\AppData\\Roaming\\nltk_data...\n",
      "[nltk_data]   Package stopwords is already up-to-date!\n"
     ]
    }
   ],
   "source": [
    "# # # # # # # # # # # # # # # # # # # # # # # # # # # #\n",
    "# Assignment 1 for Henrik Bonsaksen og Mahmoud Khazei #\n",
    "# # # # # # # # # # # # # # # # # # # # # # # # # # # # \n",
    "\n",
    "# all imports\n",
    "import pandas as pd\n",
    "import numpy as np\n",
    "%matplotlib inline\n",
    "import matplotlib.pyplot as plt\n",
    "from sklearn.model_selection import train_test_split\n",
    "from scipy.special import logsumexp\n",
    "import nltk\n",
    "nltk.download(\"punkt\")\n",
    "nltk.download(\"stopwords\")\n",
    "from nltk.tokenize import WordPunctTokenizer\n",
    "from nltk.corpus import stopwords\n",
    "import re\n",
    "import os"
   ]
  },
  {
   "cell_type": "code",
   "execution_count": 2,
   "metadata": {},
   "outputs": [],
   "source": [
    "data = pd.read_csv('tweets.csv', sep=',')"
   ]
  },
  {
   "cell_type": "code",
   "execution_count": 3,
   "metadata": {},
   "outputs": [],
   "source": [
    "# change the sentiment text into values\n",
    "data[\"airline_sentiment\"]=data.airline_sentiment.map({\"neutral\":\"0\",\"positive\":\"1\",\"negative\":\"-1\"})"
   ]
  },
  {
   "cell_type": "code",
   "execution_count": 4,
   "metadata": {},
   "outputs": [],
   "source": [
    "import string\n",
    "string.punctuation\n",
    "useless_words = nltk.corpus.stopwords.words(\"english\") + list(string.punctuation)"
   ]
  },
  {
   "cell_type": "code",
   "execution_count": 5,
   "metadata": {},
   "outputs": [],
   "source": [
    "user = '@[A-Za-z0-9]+'\n",
    "url = 'https?://[^ ]+'\n",
    "link = 'www.[^ ]+'\n",
    "combined_p = '|'.join((user, url, link))\n",
    "neg_dic = {\"weren't\":\"were not\", \"isn't\":\"is not\", \"aren't\":\"are not\", \"wasn't\":\"was not\", \n",
    "                \"haven't\":\"have not\",\"hasn't\":\"has not\",\"hadn't\":\"had not\", \"won't\":\"will not\",\n",
    "                \"wouldn't\":\"would not\", \"shouldn't\":\"should not\",\"mightn't\":\"might not\",\n",
    "                \"mustn't\":\"must not\", \"can't\":\"can not\", \"couldn't\":\"could not\",\n",
    "               \"don't\":\"do not\", \"doesn't\":\"does not\", \"didn't\":\"did not\"}\n",
    "neg = re.compile('\\b(' + '|'.join(neg_dic.keys()) + ')\\b')\n",
    "tok = WordPunctTokenizer()\n",
    "\n",
    "def tweet_cleaner(text):\n",
    "    stripped = re.sub(combined_p, '', text)\n",
    "    lower_case = stripped.lower()\n",
    "    neg_handled = neg.sub(lambda x: neg_dic[x.group()], lower_case)\n",
    "    letters = re.sub(\"[^a-zA-Z]\", \" \", neg_handled)\n",
    "    words = [x for x in tok.tokenize(letters) if len(x) > 1]\n",
    "    drop_stopwords = [x for x in words if x not in stopwords.words('english')]\n",
    "    return (\" \".join(drop_stopwords)).strip()"
   ]
  },
  {
   "cell_type": "code",
   "execution_count": 6,
   "metadata": {},
   "outputs": [],
   "source": [
    "X=data.iloc[:,10]\n",
    "Y=data.iloc[:,1]"
   ]
  },
  {
   "cell_type": "code",
   "execution_count": 7,
   "metadata": {},
   "outputs": [],
   "source": [
    "sentiment = data['airline_sentiment'].value_counts()\n",
    "# adding labels\n",
    "labels=['Negative','Neutral','Positive']\n",
    "index = np.arange(len(labels))"
   ]
  },
  {
   "cell_type": "code",
   "execution_count": 8,
   "metadata": {},
   "outputs": [],
   "source": [
    "from sklearn.feature_extraction.text import CountVectorizer\n",
    "# making a bag of words \n",
    "vectorizer=CountVectorizer()\n",
    "bag_of_words=vectorizer.fit_transform(X)\n",
    "vc=vectorizer.get_feature_names\n",
    "# print(bag_of_words.toarray())\n",
    "# print(vectorizer.vocabulary_)"
   ]
  },
  {
   "cell_type": "code",
   "execution_count": 9,
   "metadata": {},
   "outputs": [],
   "source": [
    "clean_tweets = []\n",
    "for tweet in data.text:\n",
    "    clean_tweets.append(tweet_cleaner(tweet))\n",
    "X = pd.DataFrame(clean_tweets) #X var data['text']"
   ]
  },
  {
   "cell_type": "code",
   "execution_count": 10,
   "metadata": {},
   "outputs": [],
   "source": [
    "X_train,X_test,Y_train,Y_test=train_test_split(bag_of_words,Y,test_size=0.2)"
   ]
  },
  {
   "cell_type": "code",
   "execution_count": 11,
   "metadata": {},
   "outputs": [],
   "source": [
    "from sklearn.preprocessing import LabelBinarizer\n",
    "# attempt to create naive bayes as a class\n",
    "# followed steps from \n",
    "# https://ethen8181.github.io/machine-learning/text_classification/naive_bayes/naive_bayes.html\n",
    "\n",
    "class NaiveBayes:\n",
    "    def __init__(self, laplacesmooth = 1.0):\n",
    "        self.laplacesmooth = laplacesmooth\n",
    "\n",
    "    def fit(self, X, Y):\n",
    "        # labeling\n",
    "        labelbin = LabelBinarizer()\n",
    "        Y = labelbin.fit_transform(Y).astype(np.float64)\n",
    "        if Y.shape[1] == 1:\n",
    "            Y = np.concatenate((1 - Y, Y), axis = 1)\n",
    "\n",
    "        self.classes_ = labelbin.classes_\n",
    "\n",
    "        # sparse matrix, matrix multiplication\n",
    "        self.feature_count_ = Y.T * X\n",
    "        self.class_count_ = Y.sum(axis = 0)\n",
    "\n",
    "        # compute feature log probability:\n",
    "        # number of a particular word in a particular class / total number of words in that class\n",
    "        smoothed_count = self.feature_count_ + self.laplacesmooth\n",
    "        smoothed_class = np.sum(smoothed_count, axis = 1)\n",
    "        self.feature_log_prob_ = (np.log(smoothed_count) -\n",
    "                                  np.log(smoothed_class.reshape(-1, 1)))\n",
    "\n",
    "        # compute class log prior:\n",
    "        # number of observation in a particular class / total number of observation\n",
    "        self.class_log_prior_ = (np.log(self.class_count_) -\n",
    "                                 np.log(self.class_count_.sum()))\n",
    "        return self\n",
    "    \n",
    "    def predict(self, X):\n",
    "        joint_prob = self._joint_likelihood(X)\n",
    "        pred_class = self.classes_[np.argmax(joint_prob, axis = 1)]\n",
    "        return pred_class\n",
    "\n",
    "    def predict_proba(self, X):\n",
    "        joint_prob = self._joint_likelihood(X)\n",
    "\n",
    "        joint_prob_norm = logsumexp(joint_prob, axis = 1, keepdims = True)\n",
    "        pred_proba = np.exp(joint_prob - joint_prob_norm)\n",
    "        return pred_proba\n",
    "\n",
    "    def _joint_likelihood(self, X):\n",
    "        joint_prob = X * self.feature_log_prob_.T + self.class_log_prior_\n",
    "        return joint_prob"
   ]
  },
  {
   "cell_type": "code",
   "execution_count": 12,
   "metadata": {},
   "outputs": [],
   "source": [
    "# initialization and fitting\n",
    "model = NaiveBayes()\n",
    "model.fit(X_train,Y_train)\n",
    "predict=model.predict(X_test)"
   ]
  },
  {
   "cell_type": "code",
   "execution_count": 13,
   "metadata": {},
   "outputs": [
    {
     "name": "stdout",
     "output_type": "stream",
     "text": [
      "Naive Bayes classification accuracy:  0.7585382513661202\n"
     ]
    }
   ],
   "source": [
    "# calculate the accuracy of our classifier\n",
    "def accuracy(y_true, y_pred):\n",
    "    accuracy = np.sum(y_true == y_pred) / len(y_true)\n",
    "    return accuracy\n",
    "# here we can see our accuracy is fairly good. Not the worst, not the best.\n",
    "print(\"Naive Bayes classification accuracy: \", accuracy(Y_test, predict))"
   ]
  },
  {
   "cell_type": "code",
   "execution_count": 14,
   "metadata": {},
   "outputs": [],
   "source": [
    "# function to take any sentence and predict its sentiment\n",
    "def user_defined_sentences(sentence):\n",
    "    st=[sentence]\n",
    "    vect=vectorizer.transform(st)\n",
    "    #print(vect.toarray())\n",
    "    predict=model.predict(vect)\n",
    "    positive =  ['1']\n",
    "    negative = ['-1']\n",
    "    neutral = ['0']\n",
    "    print(\"The prediction for the sentiment is:\")\n",
    "    if predict == positive:\n",
    "        print(\"\\tPositive\")\n",
    "    elif predict == negative:\n",
    "        print(\"\\tNegative\")\n",
    "    else:\n",
    "        print(\"\\tNeutral\")\n",
    "    polarity=model.predict_proba(vect)\n",
    "    print(\"Explanation for prediction: \", \"\\n\\tNegative:\", polarity[0][0], \"\\n\\tPositive:\", polarity[0][1], \"\\n\\tNeutral:\", polarity[0][2])\n",
    "    \n",
    "    plt.bar(index,polarity[0], color=(0.2, 0.5, 0.5, 1))\n",
    "    plt.ylabel('Probability',fontsize=10)\n",
    "    plt.xlabel('Prediction',fontsize=10)\n",
    "    plt.xticks(index, labels, fontsize=10, rotation=40)\n",
    "    plt.title('Sentiment of Sentence', fontsize=15)\n",
    "    plt.show()\n"
   ]
  },
  {
   "cell_type": "code",
   "execution_count": null,
   "metadata": {},
   "outputs": [
    {
     "name": "stdout",
     "output_type": "stream",
     "text": [
      "Naive Bayes classification accuracy:  0.7585382513661202\n",
      "Skriv inn en tweet eller exit for å lukke:\n",
      "test bajs cool\n",
      "The prediction for the sentiment is:\n",
      "\tNeutral\n",
      "Explanation for prediction:  \n",
      "\tNegative: 0.11284993330210574 \n",
      "\tPositive: 0.5413125482275835 \n",
      "\tNeutral: 0.34583751847030947\n"
     ]
    },
    {
     "data": {
      "image/png": "[encoded data removed]",
      "text/plain": [
       "<Figure size 432x288 with 1 Axes>"
      ]
     },
     "metadata": {
      "needs_background": "light"
     },
     "output_type": "display_data"
    },
    {
     "name": "stdout",
     "output_type": "stream",
     "text": [
      "Skriv inn en tweet eller exit for å lukke:\n",
      "great nice cool\n",
      "The prediction for the sentiment is:\n",
      "\tPositive\n",
      "Explanation for prediction:  \n",
      "\tNegative: 0.036056451369578274 \n",
      "\tPositive: 0.006472851767763189 \n",
      "\tNeutral: 0.9574706968626586\n"
     ]
    },
    {
     "data": {
      "image/png": "[encoded data removed]",
      "text/plain": [
       "<Figure size 432x288 with 1 Axes>"
      ]
     },
     "metadata": {
      "needs_background": "light"
     },
     "output_type": "display_data"
    }
   ],
   "source": [
    "def main():\n",
    "    \n",
    "    # here we can see our accuracy is fairly good. Not the worst, not the best.\n",
    "    print(\"Naive Bayes classification accuracy: \", accuracy(Y_test, predict))\n",
    "    while True:\n",
    "        # command line utility for typing in any text or tweet\n",
    "        user_input = input(\"Skriv inn en tweet eller exit for å lukke:\\n\")\n",
    "\n",
    "        if user_input != 'exit':\n",
    "            user_defined_sentences(user_input)\n",
    "        elif user_input == 'exit':\n",
    "            sys.exit(0)\n",
    "\n",
    "if __name__ == \"__main__\":\n",
    "    main()"
   ]
  },
  {
   "cell_type": "code",
   "execution_count": null,
   "metadata": {},
   "outputs": [],
   "source": [
    "################################ CORRECT PREDICTIONS: #####################################\n",
    "#\n",
    "# tweet[14637]: \"@AmericanAir guarantee no retribution? If so, I'd be glad to share.\"\n",
    "# prediction: neutral\n",
    "# correct sentiment: neutral\n",
    "# The numbers for the prediction:  \n",
    "#    negative: 0.40881885 \n",
    "#    neutral: 0.57140138\n",
    "#    positive: 0.01977977\n",
    "#\n",
    "# tweet[17] \"@VirginAmerica  I flew from NYC to SFO last week and couldn't fully sit in my seat due to two large gentleman on either side of me. HELP!\"\n",
    "# prediction: negative\n",
    "# correct sentiment: negative\n",
    "# The numbers for the prediction:  \n",
    "#    negative: 9.99535358e-01\n",
    "#    neutral: 4.58533670e-04 \n",
    "#    positive: 6.10875730e-06\n",
    "\n",
    "\n",
    "################################ WRONG PREDICTIONS: #####################################\n",
    "# \n",
    "# tweet[2]: \"@VirginAmerica I didn't today... Must mean I need to take another trip!\"\n",
    "# prediction: negative\n",
    "# correct sentiment: neutral\n",
    "# The numbers for the prediction:  \n",
    "#    negative: 0.89608717 \n",
    "#    neutral: 0.09819443 \n",
    "#    positive: 0.0057184\n",
    "# \n",
    "# tweet[6] \"@VirginAmerica yes, nearly every time I fly VX this “ear worm” won’t go away :)\"\n",
    "# prediction: negative\n",
    "# correct sentiment: positive\n",
    "# The numbers for the prediction:  \n",
    "#     negative: 0.68502534 \n",
    "#     neutral: 0.15810652\n",
    "#     positive: 0.15686814\n",
    "\n",
    "\n",
    "##################################### COMMENTS: ######################################\n",
    "# When it comes to the wrong ones, we assumed the neutral ones would be hardest\n",
    "# to predict, and it would more often predict these close-to-correct, but end up wrong.\n",
    "# \n",
    "# numbers will also change for each time the script is reset, as the actual data in \n",
    "# the training and test sets will change."
   ]
  },
  {
   "cell_type": "code",
   "execution_count": null,
   "metadata": {},
   "outputs": [],
   "source": []
  }
 ],
 "metadata": {
  "kernelspec": {
   "display_name": "Python 3",
   "language": "python",
   "name": "python3"
  },
  "language_info": {
   "codemirror_mode": {
    "name": "ipython",
    "version": 3
   },
   "file_extension": ".py",
   "mimetype": "text/x-python",
   "name": "python",
   "nbconvert_exporter": "python",
   "pygments_lexer": "ipython3",
   "version": "3.7.4"
  }
 },
 "nbformat": 4,
 "nbformat_minor": 2
}
